{
 "cells": [
  {
   "cell_type": "markdown",
   "id": "7b3ca399",
   "metadata": {},
   "source": [
    "# Importação de Libs"
   ]
  },
  {
   "cell_type": "markdown",
   "id": "01284a7e",
   "metadata": {},
   "source": [
    "import cv2\n",
    "import matplotlib.pyplot as plt"
   ]
  },
  {
   "cell_type": "markdown",
   "id": "e6156e44",
   "metadata": {},
   "source": [
    "# Carregamento de Imagem"
   ]
  },
  {
   "cell_type": "markdown",
   "id": "2f14396a",
   "metadata": {},
   "source": [
    "img = \"print.png\"\n",
    "\n",
    "img = cv2.imread(img)\n",
    "img = cv2.cvtColor(img, cv2.COLOR_BGR2RGB)"
   ]
  },
  {
   "cell_type": "markdown",
   "id": "8233a2ba",
   "metadata": {},
   "source": [
    "# Exibição da imagem"
   ]
  },
  {
   "cell_type": "markdown",
   "id": "97225e5f",
   "metadata": {},
   "source": [
    "plt.imshow(img)\n",
    "plt.show()"
   ]
  }
 ],
 "metadata": {
  "kernelspec": {
   "display_name": "Python 3 (ipykernel)",
   "language": "python",
   "name": "python3"
  },
  "language_info": {
   "codemirror_mode": {
    "name": "ipython",
    "version": 3
   },
   "file_extension": ".py",
   "mimetype": "text/x-python",
   "name": "python",
   "nbconvert_exporter": "python",
   "pygments_lexer": "ipython3",
   "version": "3.9.7"
  }
 },
 "nbformat": 4,
 "nbformat_minor": 5
}
