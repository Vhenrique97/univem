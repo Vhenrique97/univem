{
 "cells": [
  {
   "cell_type": "markdown",
   "id": "4195773d",
   "metadata": {},
   "source": [
    "# Importação das Libs"
   ]
  },
  {
   "cell_type": "code",
   "execution_count": 64,
   "id": "b2fbc37a",
   "metadata": {},
   "outputs": [],
   "source": [
    "import pandas as pd"
   ]
  },
  {
   "cell_type": "markdown",
   "id": "9920080b",
   "metadata": {},
   "source": [
    "# Leitura do CSV"
   ]
  },
  {
   "cell_type": "code",
   "execution_count": 65,
   "id": "e023588a",
   "metadata": {},
   "outputs": [],
   "source": [
    "df = pd.read_csv('dicionario.csv')"
   ]
  },
  {
   "cell_type": "markdown",
   "id": "5a5f9c0b",
   "metadata": {},
   "source": [
    "# Variaveis"
   ]
  },
  {
   "cell_type": "code",
   "execution_count": 73,
   "id": "0f59544f",
   "metadata": {},
   "outputs": [],
   "source": [
    "praga_maior_zero = 0\n",
    "praga_sem_praga = 0"
   ]
  },
  {
   "cell_type": "markdown",
   "id": "2736d1e5",
   "metadata": {},
   "source": [
    "# Percorrendo o DataFrame"
   ]
  },
  {
   "cell_type": "code",
   "execution_count": 74,
   "id": "200d9270",
   "metadata": {},
   "outputs": [],
   "source": [
    "\n",
    "for row in df['PERCEVEJO']:        \n",
    "    \n",
    "    if int(row) > 0:\n",
    "        praga_maior_zero += 1\n",
    "    \n",
    "    if int(row) == 0:\n",
    "        praga_sem_praga += 1           \n",
    "        "
   ]
  },
  {
   "cell_type": "markdown",
   "id": "393c9e6f",
   "metadata": {},
   "source": [
    "# Sample"
   ]
  },
  {
   "cell_type": "code",
   "execution_count": 75,
   "id": "baab988b",
   "metadata": {},
   "outputs": [],
   "source": [
    "dataset_presenca = df.loc[df['PERCEVEJO'] > 0][['PERCEVEJO']].copy()\n",
    "dataset_ausencia = df.loc[df['PERCEVEJO'] == 0][['PERCEVEJO']].copy()\n",
    "\n",
    "final_dataset = pd.concat([dataset_presenca[5:], dataset_ausencia[5:]])\n",
    "sample_dataset = pd.concat([dataset_presenca[:5], dataset_ausencia[:5]])"
   ]
  },
  {
   "cell_type": "markdown",
   "id": "fc33ee95",
   "metadata": {},
   "source": [
    "# Balanco"
   ]
  },
  {
   "cell_type": "code",
   "execution_count": 76,
   "id": "c31da59f",
   "metadata": {},
   "outputs": [],
   "source": [
    "dataset_presenca = final_dataset.loc[df['PERCEVEJO'] > 0][['PERCEVEJO']].copy()\n",
    "dataset_ausencia = final_dataset.loc[df['PERCEVEJO'] == 0][['PERCEVEJO']].copy()\n",
    "\n",
    "diff = len(dataset_ausencia) - len(dataset_presenca)\n",
    "\n",
    "if diff > 0:\n",
    "    dataset_ausencia = dataset_ausencia.drop(dataset_ausencia.index[range(diff)])\n",
    "else:\n",
    "    dataset_presenca = dataset_presenca.drop(dataset_presenca.index[range(diff)])"
   ]
  },
  {
   "cell_type": "markdown",
   "id": "c3109e06",
   "metadata": {},
   "source": [
    "# Listagem dos resultados"
   ]
  },
  {
   "cell_type": "code",
   "execution_count": 77,
   "id": "2f930735",
   "metadata": {},
   "outputs": [
    {
     "name": "stdout",
     "output_type": "stream",
     "text": [
      "Total de pragas encontrada: 291\n",
      "Total de ausencia de pragas: 309\n",
      "------------\n",
      "Total: 600\n",
      "------------\n",
      "Quantidade de pragas que se repetem:\n",
      "0     309\n",
      "1     128\n",
      "2      77\n",
      "3      39\n",
      "4      23\n",
      "5      10\n",
      "6       9\n",
      "7       4\n",
      "10      1\n",
      "Name: PERCEVEJO, dtype: int64\n",
      "------------\n",
      "Sample:     PERCEVEJO\n",
      "1           4\n",
      "2           1\n",
      "4           4\n",
      "5           3\n",
      "6           3\n",
      "0           0\n",
      "3           0\n",
      "7           0\n",
      "8           0\n",
      "14          0\n",
      "------------\n",
      "Balanco:\n",
      "     PERCEVEJO\n",
      "9            2\n",
      "10           6\n",
      "11           1\n",
      "12           2\n",
      "13           1\n",
      "..         ...\n",
      "593          2\n",
      "594          2\n",
      "597          2\n",
      "598          1\n",
      "599          4\n",
      "\n",
      "[286 rows x 1 columns]\n",
      "     PERCEVEJO\n",
      "87           0\n",
      "88           0\n",
      "89           0\n",
      "95           0\n",
      "100          0\n",
      "..         ...\n",
      "589          0\n",
      "591          0\n",
      "592          0\n",
      "595          0\n",
      "596          0\n",
      "\n",
      "[286 rows x 1 columns]\n"
     ]
    }
   ],
   "source": [
    "print(f'Total de pragas encontrada: {praga_maior_zero}')\n",
    "print(f'Total de ausencia de pragas: {praga_sem_praga}')\n",
    "print('------------')\n",
    "print(f'Total: {praga_sem_praga + praga_maior_zero}')\n",
    "print('------------')\n",
    "print('Quantidade de pragas que se repetem:')\n",
    "print(df['PERCEVEJO'].value_counts())\n",
    "print('------------')\n",
    "print(f'Sample: {sample_dataset}')\n",
    "print('------------')\n",
    "print(f'Balanco:')\n",
    "print(dataset_presenca)\n",
    "print(dataset_ausencia)"
   ]
  },
  {
   "cell_type": "code",
   "execution_count": null,
   "id": "63b02a25",
   "metadata": {},
   "outputs": [],
   "source": []
  }
 ],
 "metadata": {
  "kernelspec": {
   "display_name": "Python 3 (ipykernel)",
   "language": "python",
   "name": "python3"
  },
  "language_info": {
   "codemirror_mode": {
    "name": "ipython",
    "version": 3
   },
   "file_extension": ".py",
   "mimetype": "text/x-python",
   "name": "python",
   "nbconvert_exporter": "python",
   "pygments_lexer": "ipython3",
   "version": "3.9.7"
  }
 },
 "nbformat": 4,
 "nbformat_minor": 5
}
