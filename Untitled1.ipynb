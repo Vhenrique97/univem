{
 "cells": [
  {
   "cell_type": "markdown",
   "id": "4195773d",
   "metadata": {},
   "source": [
    "# Importação das Libs"
   ]
  },
  {
   "cell_type": "code",
   "execution_count": 64,
   "id": "b2fbc37a",
   "metadata": {},
   "outputs": [],
   "source": [
    "import pandas as pd"
   ]
  },
  {
   "cell_type": "markdown",
   "id": "9920080b",
   "metadata": {},
   "source": [
    "# Leitura do CSV"
   ]
  },
  {
   "cell_type": "code",
   "execution_count": 65,
   "id": "e023588a",
   "metadata": {},
   "outputs": [],
   "source": [
    "df = pd.read_csv('dicionario.csv')"
   ]
  },
  {
   "cell_type": "markdown",
   "id": "6c4fa098",
   "metadata": {},
   "source": [
    "# Variaveis"
   ]
  },
  {
   "cell_type": "code",
   "execution_count": 66,
   "id": "2a150c9e",
   "metadata": {},
   "outputs": [],
   "source": [
    "praga_maior_zero = 0\n",
    "praga_sem_praga = 0"
   ]
  },
  {
   "cell_type": "markdown",
   "id": "aac98f4f",
   "metadata": {},
   "source": [
    "# Percorrendo o DataFrame"
   ]
  },
  {
   "cell_type": "code",
   "execution_count": 67,
   "id": "2a26879c",
   "metadata": {},
   "outputs": [],
   "source": [
    "\n",
    "for row in df['PERCEVEJO']:        \n",
    "    \n",
    "    if int(row) > 0:\n",
    "        praga_maior_zero += 1\n",
    "    \n",
    "    if int(row) == 0:\n",
    "        praga_sem_praga += 1           \n",
    "        "
   ]
  },
  {
   "cell_type": "markdown",
   "id": "a0e1d037",
   "metadata": {},
   "source": [
    "# Sample"
   ]
  },
  {
   "cell_type": "code",
   "execution_count": 70,
   "id": "df4ec2ba",
   "metadata": {},
   "outputs": [],
   "source": [
    "dataset_presenca = df.loc[df['PERCEVEJO'] > 0][['PERCEVEJO']].copy()\n",
    "dataset_ausencia = df.loc[df['PERCEVEJO'] == 0][['PERCEVEJO']].copy()\n",
    "\n",
    "final_dataset = pd.concat([dataset_presenca[5:], dataset_ausencia[5:]])\n",
    "sample_dataset = pd.concat([dataset_presenca[:5], dataset_ausencia[:5]])"
   ]
  },
  {
   "cell_type": "markdown",
   "id": "76e8e08e",
   "metadata": {},
   "source": [
    "# Balanco"
   ]
  },
  {
   "cell_type": "code",
   "execution_count": null,
   "id": "088b1810",
   "metadata": {},
   "outputs": [],
   "source": [
    "dataset_presenca = final_dataset.loc[df['PERCEVEJO'] > 0][['PERCEVEJO']].copy()\n",
    "dataset_ausencia = final_dataset.loc[df['PERCEVEJO'] == 0][['PERCEVEJO']].copy()\n",
    "\n",
    "diff = len(dataset_ausencia) - len(dataset_presenca)\n",
    "\n",
    "if diff > 0:\n",
    "    dataset_ausencia = dataset_ausencia.drop(dataset_ausencia.index[range(diff)])\n",
    "else:\n",
    "    dataset_presenca = dataset_presenca.drop(dataset_presenca.index[range(diff)])"
   ]
  },
  {
   "cell_type": "markdown",
   "id": "e6a0aa4c",
   "metadata": {},
   "source": [
    "# Listagem dos resultados"
   ]
  },
  {
   "cell_type": "code",
   "execution_count": 63,
   "id": "63f79835",
   "metadata": {},
   "outputs": [
    {
     "name": "stdout",
     "output_type": "stream",
     "text": [
      "Total de pragas encontrada: 582\n",
      "Total de ausencia de pragas: 618\n",
      "------------\n",
      "Total: 1200\n",
      "------------\n",
      "Quantidade de pragas que se repetem:\n",
      "0     309\n",
      "1     128\n",
      "2      77\n",
      "3      39\n",
      "4      23\n",
      "5      10\n",
      "6       9\n",
      "7       4\n",
      "10      1\n",
      "Name: PERCEVEJO, dtype: int64\n",
      "------------\n"
     ]
    }
   ],
   "source": [
    "print(f'Total de pragas encontrada: {praga_maior_zero}')\n",
    "print(f'Total de ausencia de pragas: {praga_sem_praga}')\n",
    "print('------------')\n",
    "print(f'Total: {praga_sem_praga + praga_maior_zero}')\n",
    "print('------------')\n",
    "print('Quantidade de pragas que se repetem:')\n",
    "print(df['PERCEVEJO'].value_counts())\n",
    "print('------------')\n",
    "print(f'Sample: {sample_dataset}')\n",
    "print('------------')\n",
    "print(f'Balanco:')\n",
    "print(dataset_presenca)\n",
    "print(dataset_ausencia)"
   ]
  }
 ],
 "metadata": {
  "kernelspec": {
   "display_name": "Python 3 (ipykernel)",
   "language": "python",
   "name": "python3"
  },
  "language_info": {
   "codemirror_mode": {
    "name": "ipython",
    "version": 3
   },
   "file_extension": ".py",
   "mimetype": "text/x-python",
   "name": "python",
   "nbconvert_exporter": "python",
   "pygments_lexer": "ipython3",
   "version": "3.9.7"
  }
 },
 "nbformat": 4,
 "nbformat_minor": 5
}
